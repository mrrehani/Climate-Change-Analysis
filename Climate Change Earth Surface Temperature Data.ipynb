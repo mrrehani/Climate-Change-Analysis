{
 "cells": [
  {
   "cell_type": "code",
   "execution_count": null,
   "metadata": {},
   "outputs": [],
   "source": [
    "import pandas as pd\n",
    "from pandas import DataFrame, Series\n",
    "import csv\n",
    "import math\n",
    "import matplotlib.pyplot as plt\n",
    "from sklearn import linear_model\n",
    "import numpy as np\n",
    "from sklearn.linear_model import LinearRegression"
   ]
  },
  {
   "cell_type": "markdown",
   "metadata": {},
   "source": [
    "# In this project, I will be examining trends in global temperatures from the 18th century onwards and creating visuals to convey general conclusions. \n",
    "\n",
    "### Before going any further, I will open the data files and format them."
   ]
  },
  {
   "cell_type": "code",
   "execution_count": null,
   "metadata": {},
   "outputs": [],
   "source": [
    "country_temps=pd.read_csv(\"GlobalLandTemperaturesByCountry.csv\")\n",
    "country_dates=country_temps['dt']\n",
    "country_temps_average=country_temps.groupby(\"dt\").mean()\n",
    "world_temps=pd.read_csv(\"GlobalTemperatures.csv\")\n",
    "world_dates=world_temps['dt']\n",
    "world_Landtemps_average=world_temps.groupby(\"dt\").mean()\n",
    "maj_city_temps=pd.read_csv(\"GlobalLandTemperaturesByMajorCity.csv\")\n",
    "maj_city_dates=maj_city_temps['dt']\n",
    "maj_city_temps_avg=maj_city_temps.groupby(\"dt\").mean()\n",
    "state_temps=pd.read_csv(\"GlobalLandTemperaturesByState.csv\")\n",
    "state_dates=state_temps['dt']\n",
    "state_temps_average=state_temps.groupby(\"dt\").mean()\n",
    "city_temps=pd.read_csv(\"GlobalLandTemperaturesByCity.csv\")\n",
    "city_dates=city_temps['dt']\n",
    "city_temps_average=city_temps.groupby(\"dt\").mean()\n"
   ]
  },
  {
   "cell_type": "code",
   "execution_count": null,
   "metadata": {},
   "outputs": [],
   "source": [
    "country_temps"
   ]
  },
  {
   "cell_type": "markdown",
   "metadata": {},
   "source": [
    "# The following code will create four graph to display how the average temperature worldwide has changed each year. \n",
    "## The average temperature has been consistently increasing since the 18th century. In some graphs, there is a surge in the mid-1800s.\n",
    "## Uncertainty about the data was much higher earlier on, but leveled off with time. \n",
    "### I created graphs using multiple datasets to ensure that the results were consistent. Each dataset provides temperatures monthly, but I averaged them out yearly to make the graphs more legible. "
   ]
  },
  {
   "cell_type": "code",
   "execution_count": null,
   "metadata": {},
   "outputs": [],
   "source": [
    "#This function groups the country data by year\n",
    "def group_by_year(DF, column):  \n",
    "    year=None\n",
    "    num_months=0  #This will track how many months of each year has data. \n",
    "    yearly_average_temp=0\n",
    "    dict_years={}\n",
    "    iloc=0\n",
    "    for entry in DF.index: #Iterates through each date.\n",
    "        iloc+=1\n",
    "        if year==None:\n",
    "            year=str(entry)[:4] \n",
    "            yearly_average_temp+=DF.loc[entry][column] #Adds current year's temperature to the yearly_average_temp variable.\n",
    "        elif str(entry)[:4]==year:\n",
    "            if not math.isnan(DF.loc[entry][column]): \n",
    "                yearly_average_temp+=DF.loc[entry][column]\n",
    "                num_months+=1     \n",
    "        elif str(entry)[:4]!=year or iloc==len(DF): #If the function has encountered a new year or reached the end of the dataframe. \n",
    "            if num_months !=0: #This checks if there were any entries in the current year. \n",
    "                dict_years[year]=(yearly_average_temp/num_months) #Records the average temperature of the current year.\n",
    "            yearly_average_temp=0 \n",
    "            if not math.isnan(DF.loc[entry][column]): #If the first entry of the new year is not NaN, then the temperature will be recorded.\n",
    "                num_months=1\n",
    "                yearly_average_temp+=DF.loc[entry][column]\n",
    "            else:\n",
    "                num_months=0\n",
    "            year=str(entry)[:4]\n",
    "    return (dict_years)\n",
    "def graph_data(data, uncertainty,type_data):    \n",
    "    #The code below creating a linear regression line is from https://realpython.com/linear-regression-in-python/\n",
    "    #Creating a dataframe from the yearly averages and formatting it properly. \n",
    "    all_centuries_df=DataFrame([data]) #Data is a dict of the average temperature each year.\n",
    "    all_centuries_df=all_centuries_df.T\n",
    "    all_centuries_df.reset_index(inplace=True)\n",
    "    all_centuries_df.columns =['year', 'temp'] \n",
    "    all_centuries_df[\"uncertainty\"]=uncertainty.values()\n",
    "    #Creating a linear regression line\n",
    "    x = all_centuries_df[\"year\"].to_numpy().reshape((-1, 1)).astype(np.int) #Turns the 1D array of years into a 2D array\n",
    "    y = all_centuries_df[\"temp\"].to_numpy().astype(np.float)\n",
    "    model = LinearRegression().fit(x, y)\n",
    "    r_sq=model.score(x, y)#Returns r^2 \n",
    "    intercept= float(model.intercept_)\n",
    "    slope=float(model.coef_)\n",
    "    all_centuries_df[\"year\"]=all_centuries_df[\"year\"].astype(\"int64\")#Setting the years column to type int. \n",
    "    #The line of code above is required for the next line to work, as the years column was previously type str.\n",
    "    all_centuries_df[\"fit\"] = (all_centuries_df[\"year\"] * float(slope)) + float(intercept)#Obtains y values through the formula y=mx+b.\n",
    "    fig, axs = plt.subplots(2,1,figsize=(7.5,7.5)) \n",
    "    plt.subplots_adjust(hspace=.33)\n",
    "    plot_area=all_centuries_df.plot.line(x='year', y='fit', c='purple', ax=axs[0])\n",
    "    #In order to color-code the graph, I need to group the data by the century.\n",
    "    list_centuries=[]\n",
    "    for entry in all_centuries_df[\"year\"]:\n",
    "        year=str(entry) #Above I changed the entries in the year column to int. However in order to execute the line below\n",
    "        #it needs to be type str\n",
    "        list_centuries.append(year[:2]+\"00s\") #This way, entries from the years 1752 1713 1763 1794 will all be grouped as \"1700s\" (for example).\n",
    "    all_centuries_df[\"century\"]=list_centuries #Adds an extra column to the dataframe denoting which century each entry is classified into.\n",
    "    colors = [\"blue\", \"green\", \"orange\", \"red\"]\n",
    "    markers = [\"o\", \"^\", \"v\", \",\"]\n",
    "    centuries=set(sorted(list_centuries))\n",
    "    #The for loop will make a plot for each century in the data set and graph it using the items in the lists \"color\" and \"marker\".\n",
    "    #The loop is copied from a lecture in the class Data Programming 220 at UW Madison\n",
    "    for variety in centuries: #variety is each century, so it is '1700s', '1800s', etc.\n",
    "        sub_df = all_centuries_df[all_centuries_df[\"century\"]==variety] #Creating a temporary dataframe containing all entries from the 1700s, then the 1800s, etc. \n",
    "        plot_area = sub_df.plot.scatter(x=\"year\", y=\"temp\",ax=axs[0], #Plots all data from the current century using the first entry in the color and label list, then removing that entry. \n",
    "                                        color=colors.pop(0),\n",
    "                                        label=variety, marker=markers.pop(0)) \n",
    "\n",
    "    plot_area.set_xlabel(\"Year\")\n",
    "    plot_area.set_ylabel(\"Temperature\")\n",
    "    plot_area.set_title(\"Change in Average Temperature Each Year\")\n",
    "    #Plotting the error margin. \n",
    "    yerr=[]\n",
    "    #I am adding the annual average uncertainty entries to a list. \n",
    "    for entry in  all_centuries_df[\"uncertainty\"]:\n",
    "        yerr.append(entry)\n",
    "    fig = plt.figure()\n",
    "    #In the expressions x.tolist() and y.tolist(), x and y are are created above when plotting a scatterplot. X is the years columnn of the all_centuries_df dataframe and y is the temperatures.\n",
    "    x_axis=x.tolist() \n",
    "    y_axis=y.tolist()\n",
    "    axs[1].errorbar(x=x, y=y, yerr=yerr, ls='none') #Plotting the errorbar onto the second subplot at the second row.\n",
    "    axs[1].set_title(\"Average Uncertainty Each Year\")\n",
    "    axs[1].set_xlabel(\"Year\")\n",
    "    axs[1].set_ylabel(\"Average Uncertainty\")\n",
    "    plt.show()\n",
    "    print(\"The coefficient of determination is\", r_sq)\n",
    "    print (\"The data above is from the\", type_data,\"data set.\")\n",
    "    #This works properly because yerr, x, and y allcome from the same DataFrame. Consequently, they will be sorted in the same way and thus line up with each other.\n"
   ]
  },
  {
   "cell_type": "code",
   "execution_count": null,
   "metadata": {
    "scrolled": false
   },
   "outputs": [],
   "source": [
    "#Graphing the average temperature and uncertainty across different data sets.\n",
    "\n",
    "graph_data(group_by_year(country_temps_average, \"AverageTemperature\"), group_by_year(country_temps_average, \"AverageTemperatureUncertainty\"),\"country temperatures\")\n",
    "graph_data(group_by_year(world_Landtemps_average, \"LandAverageTemperature\"), group_by_year(world_Landtemps_average, \"LandAverageTemperatureUncertainty\"),\"world temperatures\")\n",
    "graph_data(group_by_year(state_temps_average, \"AverageTemperature\"), group_by_year(state_temps_average, \"AverageTemperatureUncertainty\"),\"state temperatures\")\n",
    "graph_data(group_by_year(city_temps_average, \"AverageTemperature\"), group_by_year(city_temps_average, \"AverageTemperatureUncertainty\"),\"city temperatures\")"
   ]
  },
  {
   "cell_type": "markdown",
   "metadata": {},
   "source": [
    "# Below, I will display which areas have had the highest increase in temperature. \n",
    "## It is important to note that different areas began recording temperatures at different times. As a result, places that began recording later will have fewer low temperatures recorded (due to the consistent increase in temperatures with time), weighing down their average. To avoid a possible misrepresentation, I grouped the areas based on when they began recording. "
   ]
  },
  {
   "cell_type": "code",
   "execution_count": null,
   "metadata": {},
   "outputs": [],
   "source": [
    "def group_by_century(df, place_type):\n",
    "    curr_place=None\n",
    "    century_began={1700:[], 1750:[],1800:[], 1850:[],1900:[], 1950:[],2000:[]} #Each place will be placed in a list depending on when it began recording temperatures.\n",
    "    index=1\n",
    "    avg_temps=df.groupby(place_type).mean()\n",
    "    avg_temps['AverageTemperature'] = avg_temps['AverageTemperature'].replace(np.nan, 0)\n",
    "    for column in df: #This loop will figure out the indeces of the \"dt\" column and the place name column. \n",
    "        if column==\"dt\":\n",
    "            dt_index=index\n",
    "        elif column==place_type:\n",
    "            place_index=index\n",
    "        index+=1\n",
    "    index=0\n",
    "    for row in df.itertuples(): #This will iterate through each entry in the data frame. \n",
    "        dt,place=row[dt_index],row[place_index]\n",
    "        if curr_place==place: #If curr_place==place, then we are not at the place's first entry (when they began recording temperatures). We only need the first entry of each place.\n",
    "            continue\n",
    "        elif curr_place==None or curr_place!=place: \n",
    "            curr_place=place\n",
    "            year_began=int(dt[:4])#This will record the year of the first year a place began recording temperatures.\n",
    "        #The conditionals below will classify the place based on when it began recording temperatures.\n",
    "        if int(str(year_began)[2])<5:#If the third number of the year is less than 5 (e.g. 1846 4<5).\n",
    "            century_began[int(str(year_began)[:2]+\"00\")].append([curr_place,index,avg_temps.loc[curr_place][\"AverageTemperature\"]])#This takes the first two numbers of the yera (which tells us the century) and adds 00 to it. It needs to temporarily be a string to concatonate the two. E.g. 1846 will become 1800.\n",
    "        else:\n",
    "            century_began[int(str(year_began)[:2]+\"50\")].append([curr_place,index,avg_temps.loc[curr_place][\"AverageTemperature\"]])\n",
    "        index+=1\n",
    "    return century_began\n",
    "def highest_avg(century_began, type_place, index1, index2):\n",
    "    highest_places,highest_temps=[],[]\n",
    "    for century in century_began:\n",
    "        if len(century_began[century])>0:#If no areas began recording temperatures after a specific time period like 2000, the list would be empty.\n",
    "            sorted_list=sorted(century_began[century], key = lambda x: int(x[2]), reverse=True) #Sorts the list by average temperature. It's fine to hardcode the index of average temperature because the code that creates the list ensures that an average temperature is always recorded.\n",
    "            #If a place had no recorded temperatures (resulting in the average temperature being NaN), it was replaced with 0.0 in the group_by_century function to act as a placeholder of sorts. \n",
    "            if sorted_list[0][2]>0.0: \n",
    "                highest_places.append(sorted_list[0][0])\n",
    "                highest_temps.append(sorted_list[0][2])\n",
    "    \n",
    "    bar_top_temps = timeAxs[index1][index2].bar(highest_places, highest_temps, color=['b','r','g','orange','purple','pink','orange'])\n",
    "    #The code below is from https://stackoverflow.com/questions/57340415/matplotlib-bar-plot-add-legend-from-categories-dataframe-column\n",
    "    colors = {'1700':'blue', '1750':'red', '1800':'green','1850':'orange', '1900': 'purple', '1950': 'pink', '2000': \"yellow\"}         \n",
    "    labels = list(colors.keys())\n",
    "    handles = [plt.Rectangle((0,0),1,1, color=colors[label]) for label in labels]\n",
    "    #The code below is from https://stackoverflow.com/questions/4700614/how-to-put-the-legend-out-of-the-plot\n",
    "    plt.legend(handles, labels, loc='center left', bbox_to_anchor=(1.05, 1),prop={'size': 12.5})\n",
    "    timeAxs[index1][index2].set(xlabel=type_place, ylabel='Temperature')\n",
    "    timeAxs[index1][index2].set_xticks(range(len(highest_places))) #This sets the tick locations based on how many entries are in the list.\n",
    "    timeAxs[index1][index2].set_xticklabels(labels=highest_places,rotation=25)\n"
   ]
  },
  {
   "cell_type": "markdown",
   "metadata": {},
   "source": [
    "\n"
   ]
  },
  {
   "cell_type": "code",
   "execution_count": null,
   "metadata": {
    "scrolled": false
   },
   "outputs": [],
   "source": [
    "fig, timeAxs=plt.subplots(2,2, figsize=(10,10)) \n",
    "plt.subplots_adjust(hspace=.33)\n",
    "plt.suptitle(\"Which Places Had the Highest Average Temperature, Starting at Different Times\", fontsize=14,y=.93)\n",
    "highest_avg(group_by_century(country_temps, \"Country\"), \"Country\",0,0)\n",
    "highest_avg(group_by_century(city_temps, \"City\"), \"City\",0,1)\n",
    "highest_avg(group_by_century(maj_city_temps, \"City\"), \"Major City\",1,0)\n",
    "highest_avg(group_by_century(state_temps, \"State\"), \"State\",1,1)\n"
   ]
  },
  {
   "cell_type": "markdown",
   "metadata": {},
   "source": [
    "# Lastly, I drew a map using the latitude and longitude of each entry in the city temperatures data set to display the heat distribution in each century. Because there was little data in the 18th century, its map is less filled out than the others. "
   ]
  },
  {
   "cell_type": "code",
   "execution_count": null,
   "metadata": {},
   "outputs": [],
   "source": [
    "def heat_detector(DF,century,index1,index2):\n",
    "    x=[]\n",
    "    y=[]\n",
    "    c=[]\n",
    "    lat=0\n",
    "    long=0\n",
    "    for city in DF.groupby(\"City\"):\n",
    "        #The code below will check the direction oof the latitude/longitude then append it to the list of x/y coordinates.\n",
    "        if str(city[1][\"Latitude\"].iloc[0]).endswith(\"N\"): \n",
    "            lat=float(city[1][\"Latitude\"].iloc[0][:-1])\n",
    "        elif str(city[1][\"Latitude\"].iloc[0]).endswith(\"S\"):\n",
    "            lat=-float(city[1][\"Latitude\"].iloc[0][:-1])\n",
    "        if str(city[1][\"Longitude\"].iloc[0]).endswith(\"E\"):\n",
    "            long=float(city[1][\"Longitude\"].iloc[0][:-1])\n",
    "        elif str(city[1][\"Longitude\"].iloc[0]).endswith(\"W\"):\n",
    "            long=-float(city[1][\"Longitude\"].iloc[0][:-1])\n",
    "        x.append(long)\n",
    "        y.append(lat)\n",
    "    for row in DF.groupby(\"City\").mean().reset_index().iterrows():\n",
    "        c.append(row[1][\"AverageTemperature\"]) #The higher the average temperature, the brighter the ddot will be.\n",
    "    if index1==0 and index2==0:#The colorbar only needs to be plotted once. Plotting it multiple times will result in overlap. To pevent this, I used a simple conditional to ensure it's only plotted when both indeces equal 0, which will only occur once.\n",
    "        #The following two lines are from https://stackoverflow.com/questions/13310594/positioning-the-colorbar.\n",
    "        img=heatAxs[index1][index2].scatter(x,y,c=c,cmap=\"inferno\")\n",
    "        cbaxes = fig.add_axes([.95, 0.15, 0.03, 0.7]) \n",
    "        cb = plt.colorbar(img, cax = cbaxes)  \n",
    "        cb.ax.set_ylabel('Temperature')\n",
    "    else:\n",
    "        heatAxs[index1][index2].scatter(x,y,c=c,cmap=\"inferno\")\n",
    "    heatAxs[index1][index2].set_xlim(-200, 200) #Longitude has a minimum/maximum value of -180/180, so I rounded the limits up to 200.\n",
    "    heatAxs[index1][index2].set_ylim(-100, 100)#Longitude has a minimum/maximum value of -90/90, so I rounded the limits up to 100.\n",
    "    heatAxs[index1][index2].set_title(century+\" Century\")\n",
    "    heatAxs[index1][index2].set(xlabel='Longitudde', ylabel='Latitude')\n",
    "    "
   ]
  },
  {
   "cell_type": "code",
   "execution_count": null,
   "metadata": {},
   "outputs": [],
   "source": [
    "fig, heatAxs=plt.subplots(2,2, figsize=(10,10)) \n",
    "plt.suptitle(\"Heat Distribution in Each Century\", fontsize=14,y=.93)\n",
    "heat_detector(city_temps[city_temps[\"dt\"].str.startswith('17', na=False)],\"18th\",0,0)\n",
    "heat_detector(city_temps[city_temps[\"dt\"].str.startswith('18', na=False)],\"19th\",0,1)\n",
    "heat_detector(city_temps[city_temps[\"dt\"].str.startswith('19', na=False)],\"20th\",1,0)\n",
    "heat_detector(city_temps[city_temps[\"dt\"].str.startswith('20', na=False)],\"21st\",1,1)\n"
   ]
  }
 ],
 "metadata": {
  "kernelspec": {
   "display_name": "Python 3",
   "language": "python",
   "name": "python3"
  },
  "language_info": {
   "codemirror_mode": {
    "name": "ipython",
    "version": 3
   },
   "file_extension": ".py",
   "mimetype": "text/x-python",
   "name": "python",
   "nbconvert_exporter": "python",
   "pygments_lexer": "ipython3",
   "version": "3.8.5"
  }
 },
 "nbformat": 4,
 "nbformat_minor": 4
}
