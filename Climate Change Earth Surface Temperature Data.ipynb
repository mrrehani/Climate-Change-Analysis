{
 "cells": [
  {
   "cell_type": "markdown",
   "metadata": {},
   "source": [
    "## In this project, I will be examining trends in global temperatures from the 18th century onwards and creating visuals to convey general conclusions. "
   ]
  },
  {
   "cell_type": "code",
   "execution_count": 1,
   "metadata": {},
   "outputs": [],
   "source": [
    "import pandas as pd\n",
    "import matplotlib.pyplot as plt\n",
    "from TemperatureGrapher import TemperatureGrapher"
   ]
  },
  {
   "cell_type": "code",
   "execution_count": 2,
   "metadata": {},
   "outputs": [],
   "source": [
    "#Opening the files\n",
    "country_temps=pd.read_csv(\"GlobalLandTemperaturesByCountry.csv\")\n",
    "country_temps_average=country_temps.groupby(\"dt\").mean()\n",
    "world_temps=pd.read_csv(\"GlobalTemperatures.csv\")\n",
    "world_temps = world_temps.rename(columns=\n",
    "    {\"LandAverageTemperature\": \"AverageTemperature\", \n",
    "    \"LandAverageTemperatureUncertainty\": \"AverageTemperatureUncertainty\"}).drop(world_temps.iloc[:,3:], axis=1)\n",
    "world_temps_average=world_temps.groupby(\"dt\").mean()\n",
    "maj_city_temps=pd.read_csv(\"GlobalLandTemperaturesByMajorCity.csv\")\n",
    "state_temps=pd.read_csv(\"GlobalLandTemperaturesByState.csv\")\n",
    "state_temps_average=state_temps.groupby(\"dt\").mean()\n",
    "city_temps=pd.read_csv(\"GlobalLandTemperaturesByCity.csv\")\n",
    "city_temps_average=city_temps.groupby(\"dt\").mean()"
   ]
  },
  {
   "cell_type": "code",
   "execution_count": 3,
   "metadata": {},
   "outputs": [],
   "source": [
    "TG = TemperatureGrapher()"
   ]
  },
  {
   "cell_type": "markdown",
   "metadata": {},
   "source": [
    "## First, I will draw several maps displaying the heat distribution across the globe in each century. Because there was little data in the 18th century, its map is less filled out than the others. "
   ]
  },
  {
   "cell_type": "code",
   "execution_count": 4,
   "metadata": {},
   "outputs": [],
   "source": [
    "\"\"\"\n",
    "A few countries have different names in the datasets I'm using compared to the naturalearth_lowres world dataset. As a result, I had to rename a few countries.\n",
    "\"\"\"\n",
    "oldNames = [\"Palestina\", \"Dominica\",\"French Guiana\", \"Netherlands (Europe)\", \"Bosnia And Herzegovina\", \"United States\", \"Central African Republic\", \"Trinidad And Tobago\", \"Timor Leste\", \"Congo (Democratic Republic Of The)\", \"Côte D'Ivoire\"]\n",
    "newNames = [\"Palestine\", \"Dominican Rep.\", \"Guinea\", \"Netherlands\", \"Bosnia and Herz.\", \"United States of America\", \"Central African Rep.\", \"Trinidad and Tobago\", \"Timor-Leste\", \"Dem. Rep. Congo\", \"Côte d'Ivoire\"]\n",
    "for i in range(len(oldNames)):\n",
    "    country_temps.loc[country_temps[\"Country\"] == oldNames[i], \"Country\"] = newNames[i]\n",
    "\n",
    "fig, heatAxs=plt.subplots(2,2, figsize=(20,10)) \n",
    "fig.patch.set_facecolor(\"white\")\n",
    "plt.suptitle(\"Heat Distribution in Each Century\", fontsize=20,y=.93)\n",
    "\n",
    "rows,cols = [0,0,1,1],[0,1,0,1]\n",
    "centuries = range(17,21)\n",
    "\n",
    "for i in range(len(centuries)):\n",
    "    TG.graph_map(country_temps, centuries[i], rows[i], cols[i], heatAxs)\n"
   ]
  },
  {
   "cell_type": "markdown",
   "metadata": {},
   "source": [
    "## The following code will create four graph to display how the average temperature worldwide has changed each year. \n",
    "## As we can see below, the average temperature has been consistently increasing since the 18th century. In some graphs, there is a surge in the mid-1800s. However, it is also important to note that uncertainty about the data was much higher earlier on.\n"
   ]
  },
  {
   "cell_type": "code",
   "execution_count": null,
   "metadata": {},
   "outputs": [],
   "source": [
    "fig, tempAx=plt.subplots(2,2, figsize=(20,10)) \n",
    "plt.suptitle(\"Average Temperature Each Year (Celsius)\", fontsize=20,y=.93)\n",
    "fig, uncertainAx=plt.subplots(2,2, figsize=(20,10)) \n",
    "plt.suptitle(\"Average Uncertainty Each Year\", fontsize=20,y=.93)\n",
    "\n",
    "#Graphing the average temperature and uncertainty across different data sets.\n",
    "rows,cols = [0,0,1,1], [1,0,0,1]\n",
    "dataframes = [country_temps_average, world_temps_average, city_temps_average, state_temps_average]\n",
    "regionNames = [\"Country\", \"World\", \"City\", \"State\"]\n",
    "for i in range(len(rows)):\n",
    "    TG.graph_change(regionNames[i],dataframes[i], tempAx,uncertainAx,rows[i],cols[i])\n"
   ]
  },
  {
   "cell_type": "markdown",
   "metadata": {},
   "source": [
    "## Below, I will display which areas have had the highest increase in temperature. \n",
    "## It is important to note that different areas began recording temperatures at different times. As a result, places that began recording later will have fewer low temperatures recorded (due to the consistent increase in temperatures with time), weighing down their average. To avoid a possible misrepresentation, I grouped the areas based on when they began recording. "
   ]
  },
  {
   "cell_type": "code",
   "execution_count": null,
   "metadata": {
    "scrolled": false
   },
   "outputs": [],
   "source": [
    "fig, timeAxs=plt.subplots(2,2, figsize=(10,10)) \n",
    "plt.subplots_adjust(hspace=.33)\n",
    "plt.suptitle(\"Which Places Had the Highest Average Temperature, Starting at Different Times\", fontsize=14,y=.93)\n",
    "\n",
    "dataframes = [country_temps, city_temps, maj_city_temps, state_temps]\n",
    "places = [\"Country\",\"City\", 'City', \"State\"]\n",
    "rows,cols = [0,0,1,1], [0,1,0,1]\n",
    "for i in range(len(dataframes)):\n",
    "    TG.highest_avg(dataframes[i], places[i], rows[i], cols[i],timeAxs)\n"
   ]
  }
 ],
 "metadata": {
  "kernelspec": {
   "display_name": "Python 3.9.1 ('.venv': venv)",
   "language": "python",
   "name": "python3"
  },
  "language_info": {
   "codemirror_mode": {
    "name": "ipython",
    "version": 3
   },
   "file_extension": ".py",
   "mimetype": "text/x-python",
   "name": "python",
   "nbconvert_exporter": "python",
   "pygments_lexer": "ipython3",
   "version": "3.9.1"
  },
  "vscode": {
   "interpreter": {
    "hash": "199b3b3cda41d55bdf4854723f014940a68ce03233ce3406350d7fd7e209fd49"
   }
  }
 },
 "nbformat": 4,
 "nbformat_minor": 4
}
